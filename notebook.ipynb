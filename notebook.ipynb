{
 "cells": [
  {
   "cell_type": "markdown",
   "metadata": {},
   "source": [
    "## IMPORTS"
   ]
  },
  {
   "cell_type": "code",
   "execution_count": 101,
   "metadata": {},
   "outputs": [],
   "source": [
    "import pandas as pd\n",
    "import numpy as np\n",
    "import matplotlib.pyplot as plt\n",
    "%matplotlib inline \n",
    "\n",
    "from sklearn import linear_model\n",
    "from sklearn import ensemble\n",
    "from sklearn import tree\n",
    "from sklearn.model_selection import StratifiedShuffleSplit\n",
    "\n",
    "from sklearn.metrics import root_mean_squared_error\n",
    "from sklearn.metrics import make_scorer\n",
    "\n",
    "from sklearn.model_selection import  cross_val_score"
   ]
  },
  {
   "cell_type": "markdown",
   "metadata": {},
   "source": [
    "## SETUP"
   ]
  },
  {
   "cell_type": "code",
   "execution_count": 102,
   "metadata": {},
   "outputs": [],
   "source": [
    "PATH_TRAIN = 'datasets/train.csv'\n",
    "PATH_TEST = 'datasets/test.csv'"
   ]
  },
  {
   "cell_type": "markdown",
   "metadata": {},
   "source": [
    "## FUNÇÕES"
   ]
  },
  {
   "cell_type": "code",
   "execution_count": 103,
   "metadata": {},
   "outputs": [],
   "source": [
    "# Filtra colunas por tipos de dados informados por parâmetro\n",
    "def obter_lista_de_colunas_por_tipo(dataframe: pd.DataFrame, tipo='nuber') -> list:\n",
    "    return dataframe.select_dtypes(include=[tipo]).columns"
   ]
  },
  {
   "cell_type": "code",
   "execution_count": 104,
   "metadata": {},
   "outputs": [],
   "source": [
    "def obter_colunas_com_nulos(dataframe: pd.DataFrame) -> list:\n",
    "    return dataframe.columns[dataframe.isnull().any()].tolist()"
   ]
  },
  {
   "cell_type": "code",
   "execution_count": 105,
   "metadata": {},
   "outputs": [],
   "source": [
    "def obter_conj_treinamento_e_teste_estratificado_por(categoria:str, df: pd.DataFrame):\n",
    "    \n",
    "    strat_train_set = None\n",
    "    strat_valid_set = None\n",
    "\n",
    "    split = StratifiedShuffleSplit(n_splits=1, test_size=0.2, random_state=42)\n",
    "    for train_index, valid_index in split.split(df, df[categoria]):\n",
    "        strat_train_set = df.loc[train_index]\n",
    "        strat_valid_set = df.loc[valid_index]\n",
    "        \n",
    "    return strat_train_set, strat_valid_set"
   ]
  },
  {
   "cell_type": "code",
   "execution_count": 106,
   "metadata": {},
   "outputs": [],
   "source": [
    "def get_dataframe(path: str) -> pd.DataFrame:\n",
    "    dataframe = pd.read_csv(path)\n",
    "    return dataframe"
   ]
  },
  {
   "cell_type": "markdown",
   "metadata": {},
   "source": [
    "## ANÁLISE PRÉVIA DOS DADOS"
   ]
  },
  {
   "cell_type": "markdown",
   "metadata": {},
   "source": [
    "### Informações gerais"
   ]
  },
  {
   "cell_type": "code",
   "execution_count": 107,
   "metadata": {},
   "outputs": [],
   "source": [
    "df_train = get_dataframe(path=PATH_TRAIN)\n",
    "todos_atributos_numericos = obter_lista_de_colunas_por_tipo(df_train, tipo='number')\n",
    "todos_atributos_categoricos = obter_lista_de_colunas_por_tipo(df_train, tipo='object')"
   ]
  },
  {
   "cell_type": "code",
   "execution_count": 108,
   "metadata": {},
   "outputs": [
    {
     "data": {
      "text/plain": [
       "Index(['Id', 'MSSubClass', 'LotFrontage', 'LotArea', 'OverallQual',\n",
       "       'OverallCond', 'YearBuilt', 'YearRemodAdd', 'MasVnrArea', 'BsmtFinSF1',\n",
       "       'BsmtFinSF2', 'BsmtUnfSF', 'TotalBsmtSF', '1stFlrSF', '2ndFlrSF',\n",
       "       'LowQualFinSF', 'GrLivArea', 'BsmtFullBath', 'BsmtHalfBath', 'FullBath',\n",
       "       'HalfBath', 'BedroomAbvGr', 'KitchenAbvGr', 'TotRmsAbvGrd',\n",
       "       'Fireplaces', 'GarageYrBlt', 'GarageCars', 'GarageArea', 'WoodDeckSF',\n",
       "       'OpenPorchSF', 'EnclosedPorch', '3SsnPorch', 'ScreenPorch', 'PoolArea',\n",
       "       'MiscVal', 'MoSold', 'YrSold', 'SalePrice'],\n",
       "      dtype='object')"
      ]
     },
     "execution_count": 108,
     "metadata": {},
     "output_type": "execute_result"
    }
   ],
   "source": [
    "todos_atributos_numericos"
   ]
  },
  {
   "cell_type": "markdown",
   "metadata": {},
   "source": [
    "visualizando as colunas que possuem valores nulos"
   ]
  },
  {
   "cell_type": "code",
   "execution_count": 109,
   "metadata": {},
   "outputs": [
    {
     "data": {
      "text/plain": [
       "['Alley',\n",
       " 'MasVnrType',\n",
       " 'BsmtQual',\n",
       " 'BsmtCond',\n",
       " 'BsmtExposure',\n",
       " 'BsmtFinType1',\n",
       " 'BsmtFinType2',\n",
       " 'Electrical',\n",
       " 'FireplaceQu',\n",
       " 'GarageType',\n",
       " 'GarageFinish',\n",
       " 'GarageQual',\n",
       " 'GarageCond',\n",
       " 'PoolQC',\n",
       " 'Fence',\n",
       " 'MiscFeature']"
      ]
     },
     "execution_count": 109,
     "metadata": {},
     "output_type": "execute_result"
    }
   ],
   "source": [
    "atributos_numericos_com_valores_numericos_nulos = obter_colunas_com_nulos(df_train[todos_atributos_categoricos])\n",
    "atributos_numericos_com_valores_numericos_nulos"
   ]
  },
  {
   "cell_type": "markdown",
   "metadata": {},
   "source": [
    "visualizando o percentual de valores nulos"
   ]
  },
  {
   "cell_type": "code",
   "execution_count": 110,
   "metadata": {},
   "outputs": [
    {
     "data": {
      "text/plain": [
       "Alley           93.77\n",
       "MasVnrType      59.73\n",
       "BsmtQual         2.53\n",
       "BsmtCond         2.53\n",
       "BsmtExposure     2.60\n",
       "BsmtFinType1     2.53\n",
       "BsmtFinType2     2.60\n",
       "Electrical       0.07\n",
       "FireplaceQu     47.26\n",
       "GarageType       5.55\n",
       "GarageFinish     5.55\n",
       "GarageQual       5.55\n",
       "GarageCond       5.55\n",
       "PoolQC          99.52\n",
       "Fence           80.75\n",
       "MiscFeature     96.30\n",
       "dtype: float64"
      ]
     },
     "execution_count": 110,
     "metadata": {},
     "output_type": "execute_result"
    }
   ],
   "source": [
    "((df_train[atributos_numericos_com_valores_numericos_nulos].isnull().sum() / df_train.shape[0]) * 100).round(2)"
   ]
  },
  {
   "cell_type": "markdown",
   "metadata": {},
   "source": [
    "Verificando os atributos numéricos que possuem maior correlação com o valor de venda e apresentando apenas aqueles que serão utilizados em um primeiro momento."
   ]
  },
  {
   "cell_type": "code",
   "execution_count": 111,
   "metadata": {},
   "outputs": [
    {
     "data": {
      "text/plain": [
       "SalePrice      1.000000\n",
       "OverallQual    0.790982\n",
       "GrLivArea      0.708624\n",
       "GarageCars     0.640409\n",
       "GarageArea     0.623431\n",
       "TotalBsmtSF    0.613581\n",
       "Name: SalePrice, dtype: float64"
      ]
     },
     "execution_count": 111,
     "metadata": {},
     "output_type": "execute_result"
    }
   ],
   "source": [
    "atributos_corr_top_5 = (df_train[todos_atributos_numericos].corr()['SalePrice']).sort_values(ascending=False)[:6]\n",
    "atributos_corr_top_5"
   ]
  },
  {
   "cell_type": "markdown",
   "metadata": {},
   "source": [
    "### OverallQual"
   ]
  },
  {
   "cell_type": "code",
   "execution_count": 112,
   "metadata": {},
   "outputs": [
    {
     "data": {
      "text/plain": [
       "OverallQual\n",
       "5     397\n",
       "6     374\n",
       "7     319\n",
       "8     168\n",
       "4     116\n",
       "9      43\n",
       "3      20\n",
       "10     18\n",
       "2       3\n",
       "1       2\n",
       "Name: count, dtype: int64"
      ]
     },
     "execution_count": 112,
     "metadata": {},
     "output_type": "execute_result"
    }
   ],
   "source": [
    "df = df_train[['OverallQual', 'SalePrice']]\n",
    "df['OverallQual'].value_counts()"
   ]
  },
  {
   "cell_type": "code",
   "execution_count": 113,
   "metadata": {},
   "outputs": [
    {
     "data": {
      "text/plain": [
       "<Axes: xlabel='OverallQual', ylabel='SalePrice'>"
      ]
     },
     "execution_count": 113,
     "metadata": {},
     "output_type": "execute_result"
    },
    {
     "data": {
      "image/png": "[encoded data removed]",
      "text/plain": [
       "<Figure size 640x480 with 1 Axes>"
      ]
     },
     "metadata": {},
     "output_type": "display_data"
    }
   ],
   "source": [
    "df.plot(kind='scatter', x='OverallQual', y='SalePrice')"
   ]
  },
  {
   "cell_type": "markdown",
   "metadata": {},
   "source": [
    "Sobre o gráfico de dispersão:\n",
    "\n",
    "1. Tendência: Positiva\n",
    "2. Correlação: Forte uma vez que os pontos estão alinhados de forma ascendente. \n",
    "3. Distribuição: Há uma variação considerável no SalePrice dentro de uma mesma avaliação\n",
    "4. Outliers: OverallQual 4, 8, 9 e 10\n",
    "5. Variabilidade: a uma maior dispersão dos preços em faixas de qualidade mais alta, onde os fatores de diferenciação (como localização, tamanho, idade do imóvel) podem ter um impacto maior."
   ]
  },
  {
   "cell_type": "markdown",
   "metadata": {},
   "source": [
    "### GrLivArea"
   ]
  },
  {
   "cell_type": "code",
   "execution_count": 114,
   "metadata": {},
   "outputs": [],
   "source": [
    "df = get_dataframe(path=PATH_TRAIN)\n",
    "df = df[['OverallQual', 'GrLivArea', 'SalePrice']]"
   ]
  },
  {
   "cell_type": "code",
   "execution_count": 115,
   "metadata": {},
   "outputs": [
    {
     "data": {
      "text/html": [
       "<div>\n",
       "<style scoped>\n",
       "    .dataframe tbody tr th:only-of-type {\n",
       "        vertical-align: middle;\n",
       "    }\n",
       "\n",
       "    .dataframe tbody tr th {\n",
       "        vertical-align: top;\n",
       "    }\n",
       "\n",
       "    .dataframe thead th {\n",
       "        text-align: right;\n",
       "    }\n",
       "</style>\n",
       "<table border=\"1\" class=\"dataframe\">\n",
       "  <thead>\n",
       "    <tr style=\"text-align: right;\">\n",
       "      <th></th>\n",
       "      <th>OverallQual</th>\n",
       "      <th>GrLivArea</th>\n",
       "      <th>SalePrice</th>\n",
       "    </tr>\n",
       "  </thead>\n",
       "  <tbody>\n",
       "    <tr>\n",
       "      <th>OverallQual</th>\n",
       "      <td>1.000000</td>\n",
       "      <td>0.593007</td>\n",
       "      <td>0.790982</td>\n",
       "    </tr>\n",
       "    <tr>\n",
       "      <th>GrLivArea</th>\n",
       "      <td>0.593007</td>\n",
       "      <td>1.000000</td>\n",
       "      <td>0.708624</td>\n",
       "    </tr>\n",
       "    <tr>\n",
       "      <th>SalePrice</th>\n",
       "      <td>0.790982</td>\n",
       "      <td>0.708624</td>\n",
       "      <td>1.000000</td>\n",
       "    </tr>\n",
       "  </tbody>\n",
       "</table>\n",
       "</div>"
      ],
      "text/plain": [
       "             OverallQual  GrLivArea  SalePrice\n",
       "OverallQual     1.000000   0.593007   0.790982\n",
       "GrLivArea       0.593007   1.000000   0.708624\n",
       "SalePrice       0.790982   0.708624   1.000000"
      ]
     },
     "execution_count": 115,
     "metadata": {},
     "output_type": "execute_result"
    }
   ],
   "source": [
    "df.corr()"
   ]
  },
  {
   "cell_type": "code",
   "execution_count": 116,
   "metadata": {},
   "outputs": [
    {
     "data": {
      "text/plain": [
       "<Axes: xlabel='SalePrice', ylabel='GrLivArea'>"
      ]
     },
     "execution_count": 116,
     "metadata": {},
     "output_type": "execute_result"
    },
    {
     "data": {
      "image/png": "[encoded data removed]",
      "text/plain": [
       "<Figure size 640x480 with 1 Axes>"
      ]
     },
     "metadata": {},
     "output_type": "display_data"
    }
   ],
   "source": [
    "df.plot(kind='scatter', x='SalePrice', y='GrLivArea')"
   ]
  },
  {
   "cell_type": "code",
   "execution_count": 117,
   "metadata": {},
   "outputs": [
    {
     "data": {
      "text/plain": [
       "<Axes: xlabel='OverallQual', ylabel='GrLivArea'>"
      ]
     },
     "execution_count": 117,
     "metadata": {},
     "output_type": "execute_result"
    },
    {
     "data": {
      "image/png": "[encoded data removed]",
      "text/plain": [
       "<Figure size 640x480 with 1 Axes>"
      ]
     },
     "metadata": {},
     "output_type": "display_data"
    }
   ],
   "source": [
    "df.plot(kind='scatter', x='OverallQual', y='GrLivArea')"
   ]
  },
  {
   "cell_type": "markdown",
   "metadata": {},
   "source": [
    "## TREINANDO E AVALIANDO MODELOS"
   ]
  },
  {
   "cell_type": "markdown",
   "metadata": {},
   "source": [
    "#### SETUP"
   ]
  },
  {
   "cell_type": "markdown",
   "metadata": {},
   "source": [
    "Definindo a lista de colunas que serão submetidas aos algoritmos de regressão."
   ]
  },
  {
   "cell_type": "code",
   "execution_count": 118,
   "metadata": {},
   "outputs": [],
   "source": [
    "X_columns = [\n",
    "    'OverallQual', \n",
    "    'GrLivArea'\n",
    "]\n",
    "\n",
    "dummy_columns_pipeline = [\n",
    "    'OverallQual'\n",
    "]"
   ]
  },
  {
   "cell_type": "code",
   "execution_count": 119,
   "metadata": {},
   "outputs": [],
   "source": [
    "from sklearn.linear_model import LinearRegression, Ridge, Lasso, ElasticNet, BayesianRidge, HuberRegressor, PassiveAggressiveRegressor, SGDRegressor, TheilSenRegressor, RANSACRegressor\n",
    "from sklearn.ensemble import RandomForestRegressor, GradientBoostingRegressor, AdaBoostRegressor, ExtraTreesRegressor\n",
    "from sklearn.svm import SVR\n",
    "from sklearn.neighbors import KNeighborsRegressor\n",
    "from lightgbm import LGBMRegressor\n",
    "from xgboost import XGBRegressor\n",
    "from sklearn.tree import DecisionTreeRegressor\n",
    "\n",
    "estimators = [\n",
    "    LinearRegression(),\n",
    "    Ridge(alpha=0.5),\n",
    "    Lasso(alpha=0.1),\n",
    "    ElasticNet(alpha=0.1, l1_ratio=0.5),\n",
    "    BayesianRidge(),\n",
    "    DecisionTreeRegressor(),\n",
    "    RandomForestRegressor(),\n",
    "    ExtraTreesRegressor(),\n",
    "    GradientBoostingRegressor(),\n",
    "    AdaBoostRegressor(),\n",
    "    SVR(),\n",
    "    KNeighborsRegressor(),\n",
    "    HuberRegressor(),\n",
    "    PassiveAggressiveRegressor(max_iter=1000, tol=1e-3),\n",
    "    SGDRegressor(max_iter=1000, tol=1e-3),\n",
    "    TheilSenRegressor(),\n",
    "    RANSACRegressor(),\n",
    "    LGBMRegressor(verbose=-1),\n",
    "    XGBRegressor()\n",
    "]"
   ]
  },
  {
   "cell_type": "code",
   "execution_count": 120,
   "metadata": {},
   "outputs": [],
   "source": [
    "train_set, valid_set = obter_conj_treinamento_e_teste_estratificado_por('OverallQual', get_dataframe(path=PATH_TRAIN))\n",
    "\n",
    "X_train = train_set[X_columns]\n",
    "y_train = train_set['SalePrice']\n",
    "\n",
    "X_valid = valid_set[X_columns]\n",
    "y_valid = valid_set['SalePrice']\n",
    "\n",
    "test_set = get_dataframe(path=PATH_TEST)"
   ]
  },
  {
   "cell_type": "markdown",
   "metadata": {},
   "source": [
    "Para utilizar o root_mean_squared_error na validação cruzada é necessário criar um score personalizado. "
   ]
  },
  {
   "cell_type": "code",
   "execution_count": 121,
   "metadata": {},
   "outputs": [],
   "source": [
    "rmse_scorer = make_scorer(root_mean_squared_error)"
   ]
  },
  {
   "cell_type": "markdown",
   "metadata": {},
   "source": [
    "### AVALIAÇÃO DOS MODELOS EM VALIDAÇÃO CRUZADA"
   ]
  },
  {
   "cell_type": "markdown",
   "metadata": {},
   "source": [
    "### PIPELINES"
   ]
  },
  {
   "cell_type": "code",
   "execution_count": 122,
   "metadata": {},
   "outputs": [],
   "source": [
    "from sklearn.pipeline import Pipeline\n",
    "from sklearn.compose import ColumnTransformer\n",
    "from sklearn.preprocessing import StandardScaler, MinMaxScaler\n",
    "from sklearn.impute import SimpleImputer\n",
    "from sklearn.base import BaseEstimator, TransformerMixin\n",
    "from sklearn.model_selection import train_test_split, KFold"
   ]
  },
  {
   "cell_type": "code",
   "execution_count": 123,
   "metadata": {},
   "outputs": [],
   "source": [
    "def display_stats(d: dict):\n",
    "    dataframe = pd.DataFrame.from_dict(d)\n",
    "    dataframe.sort_values(by=['score', 'std'], ascending=True, inplace=True)\n",
    "    print(dataframe)"
   ]
  },
  {
   "cell_type": "code",
   "execution_count": 124,
   "metadata": {},
   "outputs": [],
   "source": [
    "# Pipeline para campos que não serão objeto de processamento\n",
    "pipeline_dummy = Pipeline([\n",
    "    ('dummy', SimpleImputer(strategy='median'))\n",
    "])\n",
    "\n",
    "\n",
    "pipeline_GrLIveArea = Pipeline([\n",
    "    ('MinMaxScaler', MinMaxScaler())\n",
    "])"
   ]
  },
  {
   "cell_type": "code",
   "execution_count": 125,
   "metadata": {},
   "outputs": [],
   "source": [
    "preprocessor = ColumnTransformer(\n",
    "    transformers=[\n",
    "        ('dummy preprocessor', pipeline_dummy, ['OverallQual']),\n",
    "        ('GrLIveArea', pipeline_GrLIveArea, ['GrLivArea'])\n",
    "    ]\n",
    ")"
   ]
  },
  {
   "cell_type": "code",
   "execution_count": 126,
   "metadata": {},
   "outputs": [],
   "source": [
    "def avaliar_modelos(preprocessor_param: ColumnTransformer, estimators_param: list = estimators):\n",
    "    \n",
    "    d = {}\n",
    "    score_estimator = []\n",
    "    std_estimator = []\n",
    "    name_estimator = []\n",
    "\n",
    "    for estimator_loop in estimators_param:\n",
    "    \n",
    "        pipeline = Pipeline(\n",
    "            steps=[\n",
    "                ('preprocessor', preprocessor_param),\n",
    "                (f'{type(estimator_loop).__name__}', estimator_loop)\n",
    "            ]\n",
    "        )\n",
    "\n",
    "        scores = cross_val_score(pipeline, X_train, y_train, scoring=rmse_scorer, cv=10)\n",
    "        \n",
    "        score_estimator.append(scores.mean())\n",
    "        std_estimator.append(scores.std())\n",
    "        name_estimator.append(type(estimator_loop).__name__)\n",
    "    \n",
    "    \n",
    "    d['estimator'] = name_estimator\n",
    "    d['score'] = score_estimator\n",
    "    d['std'] = std_estimator\n",
    "    \n",
    "    display_stats(d)\n",
    "    \n",
    "        "
   ]
  },
  {
   "cell_type": "code",
   "execution_count": 127,
   "metadata": {},
   "outputs": [
    {
     "name": "stdout",
     "output_type": "stream",
     "text": [
      "                     estimator         score          std\n",
      "17               LGBMRegressor  37035.479979  4447.024927\n",
      "11         KNeighborsRegressor  37163.847713  4642.726050\n",
      "8    GradientBoostingRegressor  37578.946069  6419.041194\n",
      "9            AdaBoostRegressor  39311.169731  5545.958969\n",
      "0             LinearRegression  39986.131374  6026.126054\n",
      "2                        Lasso  39986.162837  6026.062580\n",
      "4                BayesianRidge  39989.171956  6016.592728\n",
      "1                        Ridge  40060.114211  5978.120169\n",
      "6        RandomForestRegressor  40896.099276  5469.770288\n",
      "15           TheilSenRegressor  41000.737346  5953.135825\n",
      "12              HuberRegressor  41051.341379  5816.815056\n",
      "18                XGBRegressor  41446.536219  6421.874720\n",
      "16             RANSACRegressor  43196.646621  5826.163734\n",
      "14                SGDRegressor  43498.246544  5589.204619\n",
      "7          ExtraTreesRegressor  43569.714398  6636.804449\n",
      "3                   ElasticNet  44269.076010  5046.126719\n",
      "5        DecisionTreeRegressor  47655.624857  6535.379734\n",
      "13  PassiveAggressiveRegressor  47793.744441  6860.280103\n",
      "10                         SVR  77246.498253  8657.997993\n"
     ]
    }
   ],
   "source": [
    "avaliar_modelos(preprocessor_param=preprocessor, estimators_param=estimators)"
   ]
  },
  {
   "cell_type": "markdown",
   "metadata": {},
   "source": [
    "### Gerando o submit"
   ]
  },
  {
   "cell_type": "markdown",
   "metadata": {},
   "source": [
    "Fazendo a previsão"
   ]
  },
  {
   "cell_type": "code",
   "execution_count": 128,
   "metadata": {},
   "outputs": [],
   "source": [
    "X = train_set[X_columns]\n",
    "y = train_set['SalePrice']\n",
    "\n",
    "pipline = Pipeline(\n",
    "    steps=[\n",
    "        ('preprocessor', preprocessor),\n",
    "        ('estimator', LGBMRegressor())\n",
    "    ]\n",
    ")\n",
    "\n",
    "\n",
    "pipline.fit(X=X, y=y)\n",
    "y_predict = pipline.predict(test_set[X_columns])"
   ]
  },
  {
   "cell_type": "markdown",
   "metadata": {},
   "source": [
    "Gerando o arquivo de submit"
   ]
  },
  {
   "cell_type": "code",
   "execution_count": 129,
   "metadata": {},
   "outputs": [],
   "source": [
    "test_set['SalePrice'] = y_predict\n",
    "df_submit = test_set[['Id', 'SalePrice']]\n",
    "df_submit.to_csv(\"sumit.csv\", index=False)"
   ]
  }
 ],
 "metadata": {
  "kernelspec": {
   "display_name": ".venv",
   "language": "python",
   "name": "python3"
  },
  "language_info": {
   "codemirror_mode": {
    "name": "ipython",
    "version": 3
   },
   "file_extension": ".py",
   "mimetype": "text/x-python",
   "name": "python",
   "nbconvert_exporter": "python",
   "pygments_lexer": "ipython3",
   "version": "3.12.3"
  }
 },
 "nbformat": 4,
 "nbformat_minor": 2
}
